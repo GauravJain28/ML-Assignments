{
 "cells": [
  {
   "cell_type": "code",
   "execution_count": 1,
   "id": "50a7330b",
   "metadata": {
    "execution": {
     "iopub.execute_input": "2021-11-10T08:57:20.875060Z",
     "iopub.status.busy": "2021-11-10T08:57:20.873552Z",
     "iopub.status.idle": "2021-11-10T08:57:23.618279Z",
     "shell.execute_reply": "2021-11-10T08:57:23.618673Z",
     "shell.execute_reply.started": "2021-11-09T17:56:20.759018Z"
    },
    "papermill": {
     "duration": 2.764608,
     "end_time": "2021-11-10T08:57:23.618981",
     "exception": false,
     "start_time": "2021-11-10T08:57:20.854373",
     "status": "completed"
    },
    "tags": []
   },
   "outputs": [
    {
     "name": "stdout",
     "output_type": "stream",
     "text": [
      "cuda\n"
     ]
    }
   ],
   "source": [
    "import torch\n",
    "import torch.nn as nn\n",
    "import torch.nn.functional as F\n",
    "import torch.optim as optim\n",
    "import torchvision\n",
    "from torch.utils.data import Dataset, DataLoader\n",
    "from torchvision import transforms, utils\n",
    "\n",
    "from skimage import io, transform\n",
    "\n",
    "import matplotlib.pyplot as plt # for plotting\n",
    "import numpy as np\n",
    "import pandas as pd\n",
    "import glob\n",
    "import os\n",
    "from tqdm import tqdm\n",
    "import PIL\n",
    "from sklearn.model_selection import KFold\n",
    "import torchvision.models as models\n",
    "\n",
    "from IPython.display import Image\n",
    "\n",
    "from torch.autograd import Variable\n",
    "from torch.nn import Linear, ReLU, CrossEntropyLoss, Sequential, Conv2d, MaxPool2d, Module, Softmax, BatchNorm2d, Dropout\n",
    "from torch.optim import Adam, SGD\n",
    "\n",
    "device = (\"cuda\" if torch.cuda.is_available() else \"cpu\")\n",
    "trainfile = \"../input/col341-a3/training.csv\"#sys.argv[1]\n",
    "testfile = \"../input/col341-a3/test.csv\"#sys.argv[2]\n",
    "modelfile = \"model.pth\"#sys.argv[3]\n",
    "lossfile = \"loss.txt\"#sys.argv[4]\n",
    "accuracyfile = \"accuracy.txt\"#sys.argv[5]\n",
    "img_train_folder=\"../input/col341-a3/\"\n",
    "img_test_folder=\"../input/col341-a3/\"\n",
    "print(device)"
   ]
  },
  {
   "cell_type": "code",
   "execution_count": 2,
   "id": "04b32ac7",
   "metadata": {
    "execution": {
     "iopub.execute_input": "2021-11-10T08:57:23.661550Z",
     "iopub.status.busy": "2021-11-10T08:57:23.650790Z",
     "iopub.status.idle": "2021-11-10T08:57:24.351206Z",
     "shell.execute_reply": "2021-11-10T08:57:24.350646Z",
     "shell.execute_reply.started": "2021-11-09T17:56:22.435005Z"
    },
    "papermill": {
     "duration": 0.717504,
     "end_time": "2021-11-10T08:57:24.351355",
     "exception": false,
     "start_time": "2021-11-10T08:57:23.633851",
     "status": "completed"
    },
    "tags": []
   },
   "outputs": [
    {
     "name": "stdout",
     "output_type": "stream",
     "text": [
      "Wed Nov 10 08:57:24 2021       \r\n",
      "+-----------------------------------------------------------------------------+\r\n",
      "| NVIDIA-SMI 450.119.04   Driver Version: 450.119.04   CUDA Version: 11.0     |\r\n",
      "|-------------------------------+----------------------+----------------------+\r\n",
      "| GPU  Name        Persistence-M| Bus-Id        Disp.A | Volatile Uncorr. ECC |\r\n",
      "| Fan  Temp  Perf  Pwr:Usage/Cap|         Memory-Usage | GPU-Util  Compute M. |\r\n",
      "|                               |                      |               MIG M. |\r\n",
      "|===============================+======================+======================|\r\n",
      "|   0  Tesla P100-PCIE...  Off  | 00000000:00:04.0 Off |                    0 |\r\n",
      "| N/A   35C    P0    25W / 250W |      2MiB / 16280MiB |      0%      Default |\r\n",
      "|                               |                      |                  N/A |\r\n",
      "+-------------------------------+----------------------+----------------------+\r\n",
      "                                                                               \r\n",
      "+-----------------------------------------------------------------------------+\r\n",
      "| Processes:                                                                  |\r\n",
      "|  GPU   GI   CI        PID   Type   Process name                  GPU Memory |\r\n",
      "|        ID   ID                                                   Usage      |\r\n",
      "|=============================================================================|\r\n",
      "|  No running processes found                                                 |\r\n",
      "+-----------------------------------------------------------------------------+\r\n"
     ]
    }
   ],
   "source": [
    "!nvidia-smi"
   ]
  },
  {
   "cell_type": "code",
   "execution_count": 3,
   "id": "da32b94d",
   "metadata": {
    "execution": {
     "iopub.execute_input": "2021-11-10T08:57:24.388711Z",
     "iopub.status.busy": "2021-11-10T08:57:24.387995Z",
     "iopub.status.idle": "2021-11-10T08:57:24.390204Z",
     "shell.execute_reply": "2021-11-10T08:57:24.390619Z",
     "shell.execute_reply.started": "2021-11-09T17:56:23.133514Z"
    },
    "papermill": {
     "duration": 0.026036,
     "end_time": "2021-11-10T08:57:24.390775",
     "exception": false,
     "start_time": "2021-11-10T08:57:24.364739",
     "status": "completed"
    },
    "tags": []
   },
   "outputs": [],
   "source": [
    "class CustomDataset(torch.utils.data.Dataset):\n",
    "    def __init__(self, csv_path, images_folder, transform = None, train=True):\n",
    "        self.df = pd.read_csv(csv_path)\n",
    "        self.is_train = train\n",
    "        self.images_folder = images_folder\n",
    "        self.transform = transform\n",
    "        self.class2index = {\n",
    "        \"Virabhadrasana\":0,\n",
    "        \"Vrikshasana\":1,\n",
    "        \"Utkatasana\":2,\n",
    "        \"Padahastasana\":3,\n",
    "        \"Katichakrasana\":4,\n",
    "        \"TriyakTadasana\":5,\n",
    "        \"Gorakshasana\":6,\n",
    "        \"Tadasana\":7,\n",
    "        \"Natarajasana\":8,                 \n",
    "        \"Pranamasana\":9,\n",
    "        \"ParivrittaTrikonasana\":10,\n",
    "        \"Tuladandasana\":11,\n",
    "        \"Santolanasana\":12,\n",
    "        \"Still\":13,\n",
    "        \"Natavarasana\":14,\n",
    "        \"Garudasana\":15,\n",
    "        \"Naukasana\":16,\n",
    "        \"Ardhachakrasana\":17,\n",
    "        \"Trikonasana\":18,\n",
    "\n",
    "        }\n",
    "\n",
    "    def __len__(self):\n",
    "        return len(self.df)\n",
    "    def __getitem__(self, index):\n",
    "        filename = self.df[\"name\"].iloc[index]\n",
    "        if self.is_train:\n",
    "            label = self.class2index[self.df[\"category\"].iloc[index]]\n",
    "        else:\n",
    "            label = -1\n",
    "        image = PIL.Image.open(os.path.join(self.images_folder, filename))\n",
    "        if self.transform is not None:\n",
    "            image = self.transform(image)\n",
    "        sample = {\"images\": image, \"labels\": label}\n",
    "        return sample"
   ]
  },
  {
   "cell_type": "code",
   "execution_count": 4,
   "id": "a5307ac6",
   "metadata": {
    "execution": {
     "iopub.execute_input": "2021-11-10T08:57:24.424118Z",
     "iopub.status.busy": "2021-11-10T08:57:24.423571Z",
     "iopub.status.idle": "2021-11-10T08:57:24.493519Z",
     "shell.execute_reply": "2021-11-10T08:57:24.492800Z",
     "shell.execute_reply.started": "2021-11-09T17:56:23.14935Z"
    },
    "papermill": {
     "duration": 0.090069,
     "end_time": "2021-11-10T08:57:24.493636",
     "exception": false,
     "start_time": "2021-11-10T08:57:24.403567",
     "status": "completed"
    },
    "tags": []
   },
   "outputs": [],
   "source": [
    "# Data Loader Usage\n",
    "\n",
    "BATCH_SIZE = 80\n",
    "NUM_WORKERS = 20\n",
    "stats = ((0.4914, 0.4822, 0.5065), (0.2023, 0.1994, 0.2010))\n",
    "\n",
    "\n",
    "img_transforms = transforms.Compose([transforms.RandomHorizontalFlip(),\n",
    "                                     transforms.Resize(size=(299,299)),\n",
    "                                     transforms.ToTensor(),\n",
    "                                     transforms.Normalize(*stats,inplace=True)])\n",
    "\n",
    "img_test_transforms = transforms.Compose([transforms.Resize(size=(299,299)),\n",
    "                                          transforms.ToTensor(),\n",
    "                                          transforms.Normalize(*stats)])\n",
    "\n",
    "\n",
    "train_data = trainfile \n",
    "train_dataset = CustomDataset(csv_path = train_data, images_folder = img_train_folder, transform=img_transforms, train=True)\n",
    "\n",
    "test_data = testfile \n",
    "test_dataset = CustomDataset(csv_path = test_data, images_folder = img_test_folder, transform=img_test_transforms, train=False)"
   ]
  },
  {
   "cell_type": "code",
   "execution_count": 5,
   "id": "675de202",
   "metadata": {
    "execution": {
     "iopub.execute_input": "2021-11-10T08:57:24.528081Z",
     "iopub.status.busy": "2021-11-10T08:57:24.527314Z",
     "iopub.status.idle": "2021-11-10T08:57:24.529666Z",
     "shell.execute_reply": "2021-11-10T08:57:24.529263Z",
     "shell.execute_reply.started": "2021-11-09T17:56:23.204433Z"
    },
    "papermill": {
     "duration": 0.02282,
     "end_time": "2021-11-10T08:57:24.529801",
     "exception": false,
     "start_time": "2021-11-10T08:57:24.506981",
     "status": "completed"
    },
    "tags": []
   },
   "outputs": [],
   "source": [
    "#architecture 1 \n",
    "\n",
    "class Net(Module):   \n",
    "    def __init__(self):\n",
    "        super(Net, self).__init__()\n",
    "\n",
    "        self.cnn_layers = Sequential(\n",
    "            # Defining a 2D convolution layer\n",
    "            Conv2d(3, 32, kernel_size=3, stride=1),\n",
    "            BatchNorm2d(32),\n",
    "            ReLU(inplace=True),\n",
    "            MaxPool2d(kernel_size=2, stride=2),\n",
    "            # Defining another 2D convolution layer\n",
    "            Conv2d(32, 64, kernel_size=3, stride=1),\n",
    "            BatchNorm2d(64),\n",
    "            ReLU(inplace=True),\n",
    "            MaxPool2d(kernel_size=2, stride=2),\n",
    "            \n",
    "            Conv2d(64, 512, kernel_size=3, stride=1),\n",
    "            BatchNorm2d(512),\n",
    "            ReLU(inplace=True),\n",
    "            MaxPool2d(kernel_size=2, stride=2),\n",
    "            \n",
    "            Conv2d(512, 1024, kernel_size=2, stride=1),\n",
    "            #BatchNorm2d(32),\n",
    "            ReLU(inplace=True),\n",
    "            #MaxPool2d(kernel_size=2, stride=2),\n",
    "        )\n",
    "\n",
    "        self.linear_layers = Sequential(\n",
    "            Linear(1024 * 1 * 1 , 256),\n",
    "            ReLU(inplace=True),\n",
    "            Dropout(p = 0.2),\n",
    "            Linear(256 * 1 * 1 , 19),\n",
    "        )\n"
   ]
  },
  {
   "cell_type": "code",
   "execution_count": 6,
   "id": "120de88b",
   "metadata": {
    "execution": {
     "iopub.execute_input": "2021-11-10T08:57:24.567627Z",
     "iopub.status.busy": "2021-11-10T08:57:24.566882Z",
     "iopub.status.idle": "2021-11-10T08:57:24.569279Z",
     "shell.execute_reply": "2021-11-10T08:57:24.568824Z",
     "shell.execute_reply.started": "2021-11-09T17:56:23.215537Z"
    },
    "papermill": {
     "duration": 0.026529,
     "end_time": "2021-11-10T08:57:24.569380",
     "exception": false,
     "start_time": "2021-11-10T08:57:24.542851",
     "status": "completed"
    },
    "tags": []
   },
   "outputs": [],
   "source": [
    "#architecture 2\n",
    "\n",
    "class Net_drop_1(Module):   \n",
    "    def __init__(self):\n",
    "        super(Net_drop_1, self).__init__()\n",
    "\n",
    "        self.cnn_layers = Sequential(\n",
    "            \n",
    "            Conv2d(3, 32, kernel_size=3, stride=1,padding=1),\n",
    "            BatchNorm2d(32),\n",
    "            ReLU(inplace=True),\n",
    "            Dropout(p = 0.2),\n",
    "            \n",
    "            Conv2d(32, 64, kernel_size=3, stride=1,padding=1),\n",
    "            BatchNorm2d(64),\n",
    "            ReLU(inplace=True),\n",
    "            MaxPool2d(kernel_size=2, stride=2),\n",
    "            Dropout(p = 0.2),\n",
    "            \n",
    "            Conv2d(64, 128, kernel_size=3, stride=1,padding=1),\n",
    "            BatchNorm2d(128),\n",
    "            ReLU(inplace=True),\n",
    "            MaxPool2d(kernel_size=2, stride=2),\n",
    "            Dropout(p = 0.2),\n",
    "            \n",
    "            Conv2d(128, 128, kernel_size=3, stride=1,padding=1),\n",
    "            BatchNorm2d(128),\n",
    "            ReLU(inplace=True),\n",
    "            MaxPool2d(kernel_size=2, stride=2),\n",
    "            Dropout(p = 0.2),\n",
    "            \n",
    "            Conv2d(128, 256, kernel_size=3, stride=1,padding=1),\n",
    "            BatchNorm2d(256),\n",
    "            ReLU(inplace=True),\n",
    "            MaxPool2d(kernel_size=2, stride=2),\n",
    "            Dropout(p = 0.2),\n",
    "            \n",
    "            Conv2d(256, 512, kernel_size=3, stride=1,padding=1),\n",
    "            ReLU(inplace=True),\n",
    "            Dropout(p = 0.2),\n",
    "        )\n",
    "\n",
    "        self.linear_layers = Sequential(\n",
    "            Linear(512*4*4 , 512),\n",
    "            ReLU(inplace=True),\n",
    "            Dropout(p = 0.2),\n",
    "            Linear(512, 64),\n",
    "            ReLU(inplace=True),\n",
    "            Dropout(p = 0.2),\n",
    "            Linear(64 , 19),\n",
    "        )\n",
    "\n",
    "    def forward(self, x):\n",
    "        x = self.cnn_layers(x)\n",
    "        x = x.view(x.size(0), -1)\n",
    "        x = self.linear_layers(x)\n",
    "        return x"
   ]
  },
  {
   "cell_type": "code",
   "execution_count": 7,
   "id": "4a45b9f9",
   "metadata": {
    "execution": {
     "iopub.execute_input": "2021-11-10T08:57:24.602789Z",
     "iopub.status.busy": "2021-11-10T08:57:24.601949Z",
     "iopub.status.idle": "2021-11-10T08:57:24.603442Z",
     "shell.execute_reply": "2021-11-10T08:57:24.604083Z",
     "shell.execute_reply.started": "2021-11-09T17:56:23.231803Z"
    },
    "papermill": {
     "duration": 0.022005,
     "end_time": "2021-11-10T08:57:24.604210",
     "exception": false,
     "start_time": "2021-11-10T08:57:24.582205",
     "status": "completed"
    },
    "tags": []
   },
   "outputs": [],
   "source": [
    "#pretrained arch\n",
    "\n",
    "class Pre_Net(Module):\n",
    "    def __init__(self, pretrained=True):\n",
    "        super(Pre_Net,self).__init__()\n",
    "        \n",
    "        self.m = models.googlenet(pretrained=True)\n",
    "        self.m.fc = nn.Linear(self.m.fc.in_features, 19)\n",
    "\n",
    "    def forward(self, xb):\n",
    "        return self.m(xb)"
   ]
  },
  {
   "cell_type": "code",
   "execution_count": 8,
   "id": "1e81d0f0",
   "metadata": {
    "execution": {
     "iopub.execute_input": "2021-11-10T08:57:24.656549Z",
     "iopub.status.busy": "2021-11-10T08:57:24.655475Z",
     "iopub.status.idle": "2021-11-10T08:57:24.658071Z",
     "shell.execute_reply": "2021-11-10T08:57:24.657352Z",
     "shell.execute_reply.started": "2021-11-09T17:56:23.245005Z"
    },
    "papermill": {
     "duration": 0.032457,
     "end_time": "2021-11-10T08:57:24.658218",
     "exception": false,
     "start_time": "2021-11-10T08:57:24.625761",
     "status": "completed"
    },
    "tags": []
   },
   "outputs": [],
   "source": [
    "#pretrained arch\n",
    "\n",
    "class Inception_Model(Module):\n",
    "    def __init__(self, pretrained=True):\n",
    "        super(Inception_Model,self).__init__()\n",
    "        \n",
    "        self.m = models.inception_v3(pretrained=True)\n",
    "        self.m.fc = nn.Linear(self.m.fc.in_features, 19)\n",
    "\n",
    "    def forward(self, xb):\n",
    "        return self.m(xb)"
   ]
  },
  {
   "cell_type": "code",
   "execution_count": 9,
   "id": "ef6b8683",
   "metadata": {
    "execution": {
     "iopub.execute_input": "2021-11-10T08:57:24.705230Z",
     "iopub.status.busy": "2021-11-10T08:57:24.704500Z",
     "iopub.status.idle": "2021-11-10T08:57:24.707633Z",
     "shell.execute_reply": "2021-11-10T08:57:24.708251Z",
     "shell.execute_reply.started": "2021-11-09T17:56:23.254896Z"
    },
    "papermill": {
     "duration": 0.031144,
     "end_time": "2021-11-10T08:57:24.708439",
     "exception": false,
     "start_time": "2021-11-10T08:57:24.677295",
     "status": "completed"
    },
    "tags": []
   },
   "outputs": [],
   "source": [
    "def train(epoch, x, y, criterion, optimizer, model):\n",
    "    model.train()\n",
    "    \n",
    "    x_train, y_train = Variable(x), Variable(y)\n",
    "    \n",
    "    if torch.cuda.is_available():\n",
    "        x_train = x_train.cuda()\n",
    "        y_train = y_train.cuda()\n",
    "        \n",
    "    optimizer.zero_grad()\n",
    "    \n",
    "    output_train = model(x_train).logits\n",
    "    \n",
    "    loss_train = criterion(output_train, y_train)\n",
    "    \n",
    "    loss_train.backward()\n",
    "    optimizer.step()\n",
    "    tr_loss = loss_train.item()\n",
    "    \n",
    "    return tr_loss"
   ]
  },
  {
   "cell_type": "code",
   "execution_count": 10,
   "id": "db396a46",
   "metadata": {
    "execution": {
     "iopub.execute_input": "2021-11-10T08:57:24.762399Z",
     "iopub.status.busy": "2021-11-10T08:57:24.761523Z",
     "iopub.status.idle": "2021-11-10T08:57:24.764878Z",
     "shell.execute_reply": "2021-11-10T08:57:24.765487Z",
     "shell.execute_reply.started": "2021-11-09T17:56:23.265188Z"
    },
    "papermill": {
     "duration": 0.035443,
     "end_time": "2021-11-10T08:57:24.765693",
     "exception": false,
     "start_time": "2021-11-10T08:57:24.730250",
     "status": "completed"
    },
    "tags": []
   },
   "outputs": [],
   "source": [
    "def predict(epoch, x, y, criterion, optimizer, model):\n",
    "    \n",
    "    model.eval()\n",
    "    x_train, y_train = Variable(x), Variable(y)\n",
    "    \n",
    "    if torch.cuda.is_available():\n",
    "        x_train = x_train.cuda()\n",
    "        y_train = y_train.cuda()\n",
    "\n",
    "    output_train = model(x_train)\n",
    "    output_train = torch.argmax(output_train, dim = 1)\n",
    "    \n",
    "    return (torch.sum(output_train==y_train)).item()/y_train.shape[0]"
   ]
  },
  {
   "cell_type": "code",
   "execution_count": 11,
   "id": "aab926d3",
   "metadata": {
    "execution": {
     "iopub.execute_input": "2021-11-10T08:57:24.816343Z",
     "iopub.status.busy": "2021-11-10T08:57:24.815366Z",
     "iopub.status.idle": "2021-11-10T08:57:24.817434Z",
     "shell.execute_reply": "2021-11-10T08:57:24.818354Z",
     "shell.execute_reply.started": "2021-11-09T17:56:23.274359Z"
    },
    "papermill": {
     "duration": 0.029927,
     "end_time": "2021-11-10T08:57:24.818532",
     "exception": false,
     "start_time": "2021-11-10T08:57:24.788605",
     "status": "completed"
    },
    "tags": []
   },
   "outputs": [],
   "source": [
    "def predict_n(x, model):\n",
    "    \n",
    "    model.eval()\n",
    "    x_train= Variable(x)\n",
    "    \n",
    "    if torch.cuda.is_available():\n",
    "        x_train = x_train.cuda()\n",
    "        \n",
    "    output_train = model(x_train)\n",
    "    output_train = torch.argmax(output_train, dim = 1)\n",
    "    return output_train"
   ]
  },
  {
   "cell_type": "code",
   "execution_count": 12,
   "id": "627a69f6",
   "metadata": {
    "execution": {
     "iopub.execute_input": "2021-11-10T08:57:24.877383Z",
     "iopub.status.busy": "2021-11-10T08:57:24.875521Z",
     "iopub.status.idle": "2021-11-10T08:57:24.878530Z",
     "shell.execute_reply": "2021-11-10T08:57:24.879456Z",
     "shell.execute_reply.started": "2021-11-09T17:56:23.285197Z"
    },
    "papermill": {
     "duration": 0.035602,
     "end_time": "2021-11-10T08:57:24.879630",
     "exception": false,
     "start_time": "2021-11-10T08:57:24.844028",
     "status": "completed"
    },
    "tags": []
   },
   "outputs": [],
   "source": [
    "def reset_weights(m):\n",
    "    \n",
    "    for layer in m.children():\n",
    "        if hasattr(layer, 'reset_parameters'):\n",
    "            print(f'Reset trainable parameters of layer = {layer}')\n",
    "            layer.reset_parameters()"
   ]
  },
  {
   "cell_type": "code",
   "execution_count": 13,
   "id": "286090e5",
   "metadata": {
    "execution": {
     "iopub.execute_input": "2021-11-10T08:57:24.952436Z",
     "iopub.status.busy": "2021-11-10T08:57:24.951513Z",
     "iopub.status.idle": "2021-11-10T08:57:39.542826Z",
     "shell.execute_reply": "2021-11-10T08:57:39.542328Z",
     "shell.execute_reply.started": "2021-11-09T17:56:23.294672Z"
    },
    "papermill": {
     "duration": 14.634743,
     "end_time": "2021-11-10T08:57:39.542967",
     "exception": false,
     "start_time": "2021-11-10T08:57:24.908224",
     "status": "completed"
    },
    "tags": []
   },
   "outputs": [
    {
     "name": "stderr",
     "output_type": "stream",
     "text": [
      "/opt/conda/lib/python3.7/site-packages/torch/utils/data/dataloader.py:481: UserWarning: This DataLoader will create 20 worker processes in total. Our suggested max number of worker in current system is 2, which is smaller than what this DataLoader is going to create. Please be aware that excessive worker creation might get DataLoader running slow or even freeze, lower the worker number to avoid potential slowness/freeze if necessary.\n",
      "  cpuset_checked))\n",
      "Downloading: \"https://download.pytorch.org/models/inception_v3_google-0cc3c7bd.pth\" to /root/.cache/torch/hub/checkpoints/inception_v3_google-0cc3c7bd.pth\n"
     ]
    },
    {
     "data": {
      "application/vnd.jupyter.widget-view+json": {
       "model_id": "6cdc46abefa34420b6740722afa32b09",
       "version_major": 2,
       "version_minor": 0
      },
      "text/plain": [
       "  0%|          | 0.00/104M [00:00<?, ?B/s]"
      ]
     },
     "metadata": {},
     "output_type": "display_data"
    },
    {
     "name": "stdout",
     "output_type": "stream",
     "text": [
      "25151195\n"
     ]
    }
   ],
   "source": [
    "train_loader = torch.utils.data.DataLoader(\n",
    "                  train_dataset, \n",
    "                  batch_size=BATCH_SIZE, num_workers = NUM_WORKERS, shuffle=False)\n",
    "\n",
    "test_loader = torch.utils.data.DataLoader(\n",
    "              test_dataset,\n",
    "              batch_size=BATCH_SIZE,  num_workers = NUM_WORKERS, shuffle = False)\n",
    "\n",
    "torch.manual_seed(51)\n",
    "cnnmodel = Inception_Model()\n",
    "#cnnmodel.apply(reset_weights)\n",
    "torch.cuda.empty_cache()\n",
    "print(sum(p.numel() for p in cnnmodel.parameters()))\n",
    "\n",
    "optimizer = SGD(cnnmodel.parameters(), lr=0.1, momentum=0.9,nesterov=True)\n",
    "criterion = CrossEntropyLoss()\n",
    "scheduler = optim.lr_scheduler.OneCycleLR(optimizer,  max_lr = 0.1, epochs = 20, steps_per_epoch = len(train_loader))\n",
    "\n",
    "if torch.cuda.is_available():\n",
    "    cnnmodel = cnnmodel.cuda()\n",
    "    criterion = criterion.cuda()"
   ]
  },
  {
   "cell_type": "code",
   "execution_count": 14,
   "id": "441e11a1",
   "metadata": {
    "execution": {
     "iopub.execute_input": "2021-11-10T08:57:39.579208Z",
     "iopub.status.busy": "2021-11-10T08:57:39.578607Z",
     "iopub.status.idle": "2021-11-10T10:20:31.279261Z",
     "shell.execute_reply": "2021-11-10T10:20:31.279670Z"
    },
    "papermill": {
     "duration": 4971.722344,
     "end_time": "2021-11-10T10:20:31.279858",
     "exception": false,
     "start_time": "2021-11-10T08:57:39.557514",
     "status": "completed"
    },
    "tags": []
   },
   "outputs": [
    {
     "name": "stdout",
     "output_type": "stream",
     "text": [
      "Training loss -> Epoch0 0.7800097691290306\n",
      "Training loss -> Epoch1 0.40851292178322135\n",
      "Training loss -> Epoch2 0.3586129855887949\n",
      "Training loss -> Epoch3 0.31853610550158606\n",
      "Training loss -> Epoch4 0.25518561193601486\n",
      "Training loss -> Epoch5 0.20660669469472134\n",
      "Training loss -> Epoch6 0.17835524455020743\n",
      "Training loss -> Epoch7 0.1439187394265219\n",
      "Training loss -> Epoch8 0.12630827835768707\n",
      "Training loss -> Epoch9 0.1032520980976994\n",
      "Training loss -> Epoch10 0.07988052616491093\n",
      "Training loss -> Epoch11 0.06780267583902863\n",
      "Training loss -> Epoch12 0.05821413486123537\n",
      "Training loss -> Epoch13 0.0458309659984517\n",
      "Training loss -> Epoch14 0.032561226118549697\n",
      "Training loss -> Epoch15 0.021924031067436903\n",
      "Training loss -> Epoch16 0.012797186766055506\n",
      "Training loss -> Epoch17 0.007548958577894601\n",
      "Training loss -> Epoch18 0.004802147509721326\n",
      "Training loss -> Epoch19 0.004174298698040534\n"
     ]
    }
   ],
   "source": [
    "epochs = 20\n",
    "\n",
    "for epoch in range(epochs):\n",
    "        \n",
    "    loss_avg = 0\n",
    "    count = 0\n",
    "    for batch_idx, sample in enumerate(train_loader):\n",
    "        images = sample['images']\n",
    "        labels = sample['labels']\n",
    "        \n",
    "        if torch.cuda.is_available():\n",
    "            images = images.cuda()\n",
    "            labels = labels.cuda()\n",
    "            \n",
    "        loss = train(epoch, images, labels, criterion, optimizer, cnnmodel)\n",
    "        loss_avg += loss\n",
    "        count+=1\n",
    "        scheduler.step()\n",
    "        \n",
    "    loss_avg = loss_avg/count\n",
    "    print(\"Training loss -> Epoch\" + str(epoch), loss_avg)\n",
    "\n",
    "    torch.save(cnnmodel.state_dict(), modelfile)\n",
    "    "
   ]
  },
  {
   "cell_type": "code",
   "execution_count": null,
   "id": "313e0aa4",
   "metadata": {
    "papermill": {
     "duration": 0.019049,
     "end_time": "2021-11-10T10:20:31.318697",
     "exception": false,
     "start_time": "2021-11-10T10:20:31.299648",
     "status": "completed"
    },
    "tags": []
   },
   "outputs": [],
   "source": []
  },
  {
   "cell_type": "code",
   "execution_count": 15,
   "id": "72d4f082",
   "metadata": {
    "execution": {
     "iopub.execute_input": "2021-11-10T10:20:31.360538Z",
     "iopub.status.busy": "2021-11-10T10:20:31.359766Z",
     "iopub.status.idle": "2021-11-10T10:21:23.856792Z",
     "shell.execute_reply": "2021-11-10T10:21:23.856172Z",
     "shell.execute_reply.started": "2021-11-09T18:56:02.156291Z"
    },
    "papermill": {
     "duration": 52.519022,
     "end_time": "2021-11-10T10:21:23.856995",
     "exception": false,
     "start_time": "2021-11-10T10:20:31.337973",
     "status": "completed"
    },
    "tags": []
   },
   "outputs": [],
   "source": [
    "test_loader = torch.utils.data.DataLoader(\n",
    "              test_dataset,\n",
    "              batch_size=BATCH_SIZE,  num_workers = NUM_WORKERS, shuffle = False)\n",
    "\n",
    "predictions = torch.Tensor([])\n",
    "\n",
    "if torch.cuda.is_available():\n",
    "    predictions = predictions.cuda()\n",
    "    \n",
    "for batch_idx, sample in enumerate(test_loader):\n",
    "    images = sample['images']\n",
    "    \n",
    "    temp = predict_n(images, cnnmodel)\n",
    "    predictions = torch.cat((predictions,temp),0)\n",
    "\n",
    "predictions=predictions.cpu().detach().numpy()"
   ]
  },
  {
   "cell_type": "code",
   "execution_count": 16,
   "id": "a1ceee4c",
   "metadata": {
    "execution": {
     "iopub.execute_input": "2021-11-10T10:21:23.930444Z",
     "iopub.status.busy": "2021-11-10T10:21:23.920227Z",
     "iopub.status.idle": "2021-11-10T10:21:23.991453Z",
     "shell.execute_reply": "2021-11-10T10:21:23.990987Z"
    },
    "papermill": {
     "duration": 0.114501,
     "end_time": "2021-11-10T10:21:23.991571",
     "exception": false,
     "start_time": "2021-11-10T10:21:23.877070",
     "status": "completed"
    },
    "tags": []
   },
   "outputs": [],
   "source": [
    "classif = {\n",
    "        \"Virabhadrasana\":0,\n",
    "        \"Vrikshasana\":1,\n",
    "        \"Utkatasana\":2,\n",
    "        \"Padahastasana\":3,\n",
    "        \"Katichakrasana\":4,\n",
    "        \"TriyakTadasana\":5,\n",
    "        \"Gorakshasana\":6,\n",
    "        \"Tadasana\":7,\n",
    "        \"Natarajasana\":8,                 \n",
    "        \"Pranamasana\":9,\n",
    "        \"ParivrittaTrikonasana\":10,\n",
    "        \"Tuladandasana\":11,\n",
    "        \"Santolanasana\":12,\n",
    "        \"Still\":13,\n",
    "        \"Natavarasana\":14,\n",
    "        \"Garudasana\":15,\n",
    "        \"Naukasana\":16,\n",
    "        \"Ardhachakrasana\":17,\n",
    "        \"Trikonasana\":18,\n",
    "\n",
    "        }\n",
    "    \n",
    "inv_map = {v: k for k, v in classif.items()}\n",
    "\n",
    "pred = [inv_map[letter] for letter in predictions]\n",
    "df1 = pd.read_csv(testfile)\n",
    "df1[\"category\"] = pred\n",
    "df1.drop(df1.tail(1).index,inplace=True)\n",
    "df1.to_csv(path_or_buf=\"submission.csv\", columns=[\"name\", \"category\"],index=False)"
   ]
  }
 ],
 "metadata": {
  "kernelspec": {
   "display_name": "Python 3",
   "language": "python",
   "name": "python3"
  },
  "language_info": {
   "codemirror_mode": {
    "name": "ipython",
    "version": 3
   },
   "file_extension": ".py",
   "mimetype": "text/x-python",
   "name": "python",
   "nbconvert_exporter": "python",
   "pygments_lexer": "ipython3",
   "version": "3.7.10"
  },
  "papermill": {
   "default_parameters": {},
   "duration": 5052.162175,
   "end_time": "2021-11-10T10:21:25.631318",
   "environment_variables": {},
   "exception": null,
   "input_path": "__notebook__.ipynb",
   "output_path": "__notebook__.ipynb",
   "parameters": {},
   "start_time": "2021-11-10T08:57:13.469143",
   "version": "2.3.3"
  },
  "widgets": {
   "application/vnd.jupyter.widget-state+json": {
    "state": {
     "14165e53a55d454683392e1807a8ff46": {
      "model_module": "@jupyter-widgets/controls",
      "model_module_version": "1.5.0",
      "model_name": "HTMLModel",
      "state": {
       "_dom_classes": [],
       "_model_module": "@jupyter-widgets/controls",
       "_model_module_version": "1.5.0",
       "_model_name": "HTMLModel",
       "_view_count": null,
       "_view_module": "@jupyter-widgets/controls",
       "_view_module_version": "1.5.0",
       "_view_name": "HTMLView",
       "description": "",
       "description_tooltip": null,
       "layout": "IPY_MODEL_e8685859eae34fa48d44a3b55ad78905",
       "placeholder": "​",
       "style": "IPY_MODEL_a9a9e3406167471aabb48672567410e2",
       "value": "100%"
      }
     },
     "5007c2940a1e43ecb8ba499d098273f4": {
      "model_module": "@jupyter-widgets/base",
      "model_module_version": "1.2.0",
      "model_name": "LayoutModel",
      "state": {
       "_model_module": "@jupyter-widgets/base",
       "_model_module_version": "1.2.0",
       "_model_name": "LayoutModel",
       "_view_count": null,
       "_view_module": "@jupyter-widgets/base",
       "_view_module_version": "1.2.0",
       "_view_name": "LayoutView",
       "align_content": null,
       "align_items": null,
       "align_self": null,
       "border": null,
       "bottom": null,
       "display": null,
       "flex": null,
       "flex_flow": null,
       "grid_area": null,
       "grid_auto_columns": null,
       "grid_auto_flow": null,
       "grid_auto_rows": null,
       "grid_column": null,
       "grid_gap": null,
       "grid_row": null,
       "grid_template_areas": null,
       "grid_template_columns": null,
       "grid_template_rows": null,
       "height": null,
       "justify_content": null,
       "justify_items": null,
       "left": null,
       "margin": null,
       "max_height": null,
       "max_width": null,
       "min_height": null,
       "min_width": null,
       "object_fit": null,
       "object_position": null,
       "order": null,
       "overflow": null,
       "overflow_x": null,
       "overflow_y": null,
       "padding": null,
       "right": null,
       "top": null,
       "visibility": null,
       "width": null
      }
     },
     "6cdc46abefa34420b6740722afa32b09": {
      "model_module": "@jupyter-widgets/controls",
      "model_module_version": "1.5.0",
      "model_name": "HBoxModel",
      "state": {
       "_dom_classes": [],
       "_model_module": "@jupyter-widgets/controls",
       "_model_module_version": "1.5.0",
       "_model_name": "HBoxModel",
       "_view_count": null,
       "_view_module": "@jupyter-widgets/controls",
       "_view_module_version": "1.5.0",
       "_view_name": "HBoxView",
       "box_style": "",
       "children": [
        "IPY_MODEL_14165e53a55d454683392e1807a8ff46",
        "IPY_MODEL_de6be961fba549808ce54a99e6df16b7",
        "IPY_MODEL_af94e3b7932a4f04904965b4ec02f367"
       ],
       "layout": "IPY_MODEL_c011719a2c1b45368623796b0f901a89"
      }
     },
     "85b3953de809468baab16a4f9e80e08e": {
      "model_module": "@jupyter-widgets/controls",
      "model_module_version": "1.5.0",
      "model_name": "DescriptionStyleModel",
      "state": {
       "_model_module": "@jupyter-widgets/controls",
       "_model_module_version": "1.5.0",
       "_model_name": "DescriptionStyleModel",
       "_view_count": null,
       "_view_module": "@jupyter-widgets/base",
       "_view_module_version": "1.2.0",
       "_view_name": "StyleView",
       "description_width": ""
      }
     },
     "a9a9e3406167471aabb48672567410e2": {
      "model_module": "@jupyter-widgets/controls",
      "model_module_version": "1.5.0",
      "model_name": "DescriptionStyleModel",
      "state": {
       "_model_module": "@jupyter-widgets/controls",
       "_model_module_version": "1.5.0",
       "_model_name": "DescriptionStyleModel",
       "_view_count": null,
       "_view_module": "@jupyter-widgets/base",
       "_view_module_version": "1.2.0",
       "_view_name": "StyleView",
       "description_width": ""
      }
     },
     "af94e3b7932a4f04904965b4ec02f367": {
      "model_module": "@jupyter-widgets/controls",
      "model_module_version": "1.5.0",
      "model_name": "HTMLModel",
      "state": {
       "_dom_classes": [],
       "_model_module": "@jupyter-widgets/controls",
       "_model_module_version": "1.5.0",
       "_model_name": "HTMLModel",
       "_view_count": null,
       "_view_module": "@jupyter-widgets/controls",
       "_view_module_version": "1.5.0",
       "_view_name": "HTMLView",
       "description": "",
       "description_tooltip": null,
       "layout": "IPY_MODEL_fdba773e66b74ba3aa5c3cda0146b1fc",
       "placeholder": "​",
       "style": "IPY_MODEL_85b3953de809468baab16a4f9e80e08e",
       "value": " 104M/104M [00:10&lt;00:00, 12.3MB/s]"
      }
     },
     "c011719a2c1b45368623796b0f901a89": {
      "model_module": "@jupyter-widgets/base",
      "model_module_version": "1.2.0",
      "model_name": "LayoutModel",
      "state": {
       "_model_module": "@jupyter-widgets/base",
       "_model_module_version": "1.2.0",
       "_model_name": "LayoutModel",
       "_view_count": null,
       "_view_module": "@jupyter-widgets/base",
       "_view_module_version": "1.2.0",
       "_view_name": "LayoutView",
       "align_content": null,
       "align_items": null,
       "align_self": null,
       "border": null,
       "bottom": null,
       "display": null,
       "flex": null,
       "flex_flow": null,
       "grid_area": null,
       "grid_auto_columns": null,
       "grid_auto_flow": null,
       "grid_auto_rows": null,
       "grid_column": null,
       "grid_gap": null,
       "grid_row": null,
       "grid_template_areas": null,
       "grid_template_columns": null,
       "grid_template_rows": null,
       "height": null,
       "justify_content": null,
       "justify_items": null,
       "left": null,
       "margin": null,
       "max_height": null,
       "max_width": null,
       "min_height": null,
       "min_width": null,
       "object_fit": null,
       "object_position": null,
       "order": null,
       "overflow": null,
       "overflow_x": null,
       "overflow_y": null,
       "padding": null,
       "right": null,
       "top": null,
       "visibility": null,
       "width": null
      }
     },
     "db34177fc5e24a0893d367bf5b99a7a4": {
      "model_module": "@jupyter-widgets/controls",
      "model_module_version": "1.5.0",
      "model_name": "ProgressStyleModel",
      "state": {
       "_model_module": "@jupyter-widgets/controls",
       "_model_module_version": "1.5.0",
       "_model_name": "ProgressStyleModel",
       "_view_count": null,
       "_view_module": "@jupyter-widgets/base",
       "_view_module_version": "1.2.0",
       "_view_name": "StyleView",
       "bar_color": null,
       "description_width": ""
      }
     },
     "de6be961fba549808ce54a99e6df16b7": {
      "model_module": "@jupyter-widgets/controls",
      "model_module_version": "1.5.0",
      "model_name": "FloatProgressModel",
      "state": {
       "_dom_classes": [],
       "_model_module": "@jupyter-widgets/controls",
       "_model_module_version": "1.5.0",
       "_model_name": "FloatProgressModel",
       "_view_count": null,
       "_view_module": "@jupyter-widgets/controls",
       "_view_module_version": "1.5.0",
       "_view_name": "ProgressView",
       "bar_style": "success",
       "description": "",
       "description_tooltip": null,
       "layout": "IPY_MODEL_5007c2940a1e43ecb8ba499d098273f4",
       "max": 108949747.0,
       "min": 0.0,
       "orientation": "horizontal",
       "style": "IPY_MODEL_db34177fc5e24a0893d367bf5b99a7a4",
       "value": 108949747.0
      }
     },
     "e8685859eae34fa48d44a3b55ad78905": {
      "model_module": "@jupyter-widgets/base",
      "model_module_version": "1.2.0",
      "model_name": "LayoutModel",
      "state": {
       "_model_module": "@jupyter-widgets/base",
       "_model_module_version": "1.2.0",
       "_model_name": "LayoutModel",
       "_view_count": null,
       "_view_module": "@jupyter-widgets/base",
       "_view_module_version": "1.2.0",
       "_view_name": "LayoutView",
       "align_content": null,
       "align_items": null,
       "align_self": null,
       "border": null,
       "bottom": null,
       "display": null,
       "flex": null,
       "flex_flow": null,
       "grid_area": null,
       "grid_auto_columns": null,
       "grid_auto_flow": null,
       "grid_auto_rows": null,
       "grid_column": null,
       "grid_gap": null,
       "grid_row": null,
       "grid_template_areas": null,
       "grid_template_columns": null,
       "grid_template_rows": null,
       "height": null,
       "justify_content": null,
       "justify_items": null,
       "left": null,
       "margin": null,
       "max_height": null,
       "max_width": null,
       "min_height": null,
       "min_width": null,
       "object_fit": null,
       "object_position": null,
       "order": null,
       "overflow": null,
       "overflow_x": null,
       "overflow_y": null,
       "padding": null,
       "right": null,
       "top": null,
       "visibility": null,
       "width": null
      }
     },
     "fdba773e66b74ba3aa5c3cda0146b1fc": {
      "model_module": "@jupyter-widgets/base",
      "model_module_version": "1.2.0",
      "model_name": "LayoutModel",
      "state": {
       "_model_module": "@jupyter-widgets/base",
       "_model_module_version": "1.2.0",
       "_model_name": "LayoutModel",
       "_view_count": null,
       "_view_module": "@jupyter-widgets/base",
       "_view_module_version": "1.2.0",
       "_view_name": "LayoutView",
       "align_content": null,
       "align_items": null,
       "align_self": null,
       "border": null,
       "bottom": null,
       "display": null,
       "flex": null,
       "flex_flow": null,
       "grid_area": null,
       "grid_auto_columns": null,
       "grid_auto_flow": null,
       "grid_auto_rows": null,
       "grid_column": null,
       "grid_gap": null,
       "grid_row": null,
       "grid_template_areas": null,
       "grid_template_columns": null,
       "grid_template_rows": null,
       "height": null,
       "justify_content": null,
       "justify_items": null,
       "left": null,
       "margin": null,
       "max_height": null,
       "max_width": null,
       "min_height": null,
       "min_width": null,
       "object_fit": null,
       "object_position": null,
       "order": null,
       "overflow": null,
       "overflow_x": null,
       "overflow_y": null,
       "padding": null,
       "right": null,
       "top": null,
       "visibility": null,
       "width": null
      }
     }
    },
    "version_major": 2,
    "version_minor": 0
   }
  }
 },
 "nbformat": 4,
 "nbformat_minor": 5
}
