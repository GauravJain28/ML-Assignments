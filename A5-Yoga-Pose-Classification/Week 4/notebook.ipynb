{
 "cells": [
  {
   "cell_type": "code",
   "execution_count": 1,
   "id": "c713068b",
   "metadata": {
    "execution": {
     "iopub.execute_input": "2021-11-30T10:24:46.232612Z",
     "iopub.status.busy": "2021-11-30T10:24:46.231097Z",
     "iopub.status.idle": "2021-11-30T10:24:59.909712Z",
     "shell.execute_reply": "2021-11-30T10:24:59.909007Z",
     "shell.execute_reply.started": "2021-11-29T13:54:04.276059Z"
    },
    "papermill": {
     "duration": 13.699528,
     "end_time": "2021-11-30T10:24:59.909873",
     "exception": false,
     "start_time": "2021-11-30T10:24:46.210345",
     "status": "completed"
    },
    "tags": []
   },
   "outputs": [
    {
     "name": "stdout",
     "output_type": "stream",
     "text": [
      "cuda\n",
      "Collecting efficientnet_pytorch\r\n",
      "  Downloading efficientnet_pytorch-0.7.1.tar.gz (21 kB)\r\n",
      "Requirement already satisfied: torch in /opt/conda/lib/python3.7/site-packages (from efficientnet_pytorch) (1.9.1)\r\n",
      "Requirement already satisfied: typing-extensions in /opt/conda/lib/python3.7/site-packages (from torch->efficientnet_pytorch) (3.10.0.2)\r\n",
      "Building wheels for collected packages: efficientnet-pytorch\r\n",
      "  Building wheel for efficientnet-pytorch (setup.py) ... \u001b[?25l-\b \b\\\b \bdone\r\n",
      "\u001b[?25h  Created wheel for efficientnet-pytorch: filename=efficientnet_pytorch-0.7.1-py3-none-any.whl size=16446 sha256=7a03ef08c1ca2acc4bec93a3480e31c2f2ccdab83b483a8584e67ccdfe4548e1\r\n",
      "  Stored in directory: /root/.cache/pip/wheels/0e/cc/b2/49e74588263573ff778da58cc99b9c6349b496636a7e165be6\r\n",
      "Successfully built efficientnet-pytorch\r\n",
      "Installing collected packages: efficientnet-pytorch\r\n",
      "Successfully installed efficientnet-pytorch-0.7.1\r\n",
      "\u001b[33mWARNING: Running pip as the 'root' user can result in broken permissions and conflicting behaviour with the system package manager. It is recommended to use a virtual environment instead: https://pip.pypa.io/warnings/venv\u001b[0m\r\n"
     ]
    }
   ],
   "source": [
    "import torch\n",
    "import torch.nn as nn\n",
    "import torch.nn.functional as F\n",
    "import torch.optim as optim\n",
    "import torchvision\n",
    "from torch.utils.data import Dataset, DataLoader\n",
    "from torchvision import transforms, utils\n",
    "\n",
    "from skimage import io, transform\n",
    "\n",
    "import matplotlib.pyplot as plt # for plotting\n",
    "import numpy as np\n",
    "import pandas as pd\n",
    "import glob\n",
    "import os\n",
    "from tqdm import tqdm\n",
    "import PIL\n",
    "from sklearn.model_selection import KFold\n",
    "import torchvision.models as models\n",
    "\n",
    "from IPython.display import Image\n",
    "\n",
    "from torch.autograd import Variable\n",
    "from torch.nn import Linear, ReLU, CrossEntropyLoss, Sequential, Conv2d, MaxPool2d, Module, Softmax, BatchNorm2d, Dropout\n",
    "from torch.optim import Adam, SGD\n",
    "\n",
    "device = (\"cuda\" if torch.cuda.is_available() else \"cpu\")\n",
    "trainfile = \"../input/col341-a3/training.csv\"#sys.argv[1]\n",
    "testfile = \"../input/col341-a3/test.csv\"#sys.argv[2]\n",
    "modelfile = \"model.pth\"#sys.argv[3]\n",
    "lossfile = \"loss.txt\"#sys.argv[4]\n",
    "accuracyfile = \"accuracy.txt\"#sys.argv[5]\n",
    "img_train_folder=\"../input/col341-a3/\"\n",
    "img_test_folder=\"../input/col341-a3/\"\n",
    "print(device)\n",
    "\n",
    "!pip install efficientnet_pytorch\n",
    "from efficientnet_pytorch import EfficientNet"
   ]
  },
  {
   "cell_type": "code",
   "execution_count": null,
   "id": "5b8052f3",
   "metadata": {
    "papermill": {
     "duration": 0.015764,
     "end_time": "2021-11-30T10:24:59.943334",
     "exception": false,
     "start_time": "2021-11-30T10:24:59.927570",
     "status": "completed"
    },
    "tags": []
   },
   "outputs": [],
   "source": []
  },
  {
   "cell_type": "code",
   "execution_count": 2,
   "id": "3a1dafa0",
   "metadata": {
    "execution": {
     "iopub.execute_input": "2021-11-30T10:24:59.987546Z",
     "iopub.status.busy": "2021-11-30T10:24:59.986691Z",
     "iopub.status.idle": "2021-11-30T10:24:59.988589Z",
     "shell.execute_reply": "2021-11-30T10:24:59.989290Z",
     "shell.execute_reply.started": "2021-11-29T13:54:18.073512Z"
    },
    "papermill": {
     "duration": 0.029781,
     "end_time": "2021-11-30T10:24:59.989425",
     "exception": false,
     "start_time": "2021-11-30T10:24:59.959644",
     "status": "completed"
    },
    "tags": []
   },
   "outputs": [],
   "source": [
    "class CustomDataset(torch.utils.data.Dataset):\n",
    "    def __init__(self, csv_path, images_folder, transform = None, train=True):\n",
    "        self.df = pd.read_csv(csv_path)\n",
    "        self.is_train = train\n",
    "        self.images_folder = images_folder\n",
    "        self.transform = transform\n",
    "        self.class2index = {\n",
    "        \"Virabhadrasana\":0,\n",
    "        \"Vrikshasana\":1,\n",
    "        \"Utkatasana\":2,\n",
    "        \"Padahastasana\":3,\n",
    "        \"Katichakrasana\":4,\n",
    "        \"TriyakTadasana\":5,\n",
    "        \"Gorakshasana\":6,\n",
    "        \"Tadasana\":7,\n",
    "        \"Natarajasana\":8,                 \n",
    "        \"Pranamasana\":9,\n",
    "        \"ParivrittaTrikonasana\":10,\n",
    "        \"Tuladandasana\":11,\n",
    "        \"Santolanasana\":12,\n",
    "        \"Still\":13,\n",
    "        \"Natavarasana\":14,\n",
    "        \"Garudasana\":15,\n",
    "        \"Naukasana\":16,\n",
    "        \"Ardhachakrasana\":17,\n",
    "        \"Trikonasana\":18,\n",
    "\n",
    "        }\n",
    "\n",
    "    def __len__(self):\n",
    "        return len(self.df)\n",
    "    def __getitem__(self, index):\n",
    "        filename = self.df[\"name\"].iloc[index]\n",
    "        if self.is_train:\n",
    "            label = self.class2index[self.df[\"category\"].iloc[index]]\n",
    "        else:\n",
    "            label = -1\n",
    "        image = PIL.Image.open(os.path.join(self.images_folder, filename))\n",
    "        if self.transform is not None:\n",
    "            image = self.transform(image)\n",
    "        sample = {\"images\": image, \"labels\": label}\n",
    "        return sample"
   ]
  },
  {
   "cell_type": "code",
   "execution_count": 3,
   "id": "2efa67c4",
   "metadata": {
    "execution": {
     "iopub.execute_input": "2021-11-30T10:25:00.030603Z",
     "iopub.status.busy": "2021-11-30T10:25:00.030073Z",
     "iopub.status.idle": "2021-11-30T10:25:00.108110Z",
     "shell.execute_reply": "2021-11-30T10:25:00.109314Z",
     "shell.execute_reply.started": "2021-11-29T13:54:18.086648Z"
    },
    "papermill": {
     "duration": 0.103459,
     "end_time": "2021-11-30T10:25:00.109524",
     "exception": false,
     "start_time": "2021-11-30T10:25:00.006065",
     "status": "completed"
    },
    "tags": []
   },
   "outputs": [],
   "source": [
    "# Data Loader Usage\n",
    "\n",
    "BATCH_SIZE = 80\n",
    "NUM_WORKERS = 20\n",
    "stats = ((0.4914, 0.4822, 0.5265), (0.2023, 0.1994, 0.2010))\n",
    "\n",
    "\n",
    "img_transforms = transforms.Compose([transforms.RandomHorizontalFlip(),\n",
    "                                     transforms.Resize(size=(299,299)),\n",
    "                                     transforms.ToTensor(),\n",
    "                                     transforms.Normalize(*stats,inplace=True)])\n",
    "\n",
    "img_test_transforms = transforms.Compose([transforms.Resize(size=(299,299)),\n",
    "                                          transforms.ToTensor(),\n",
    "                                          transforms.Normalize(*stats)])\n",
    "\n",
    "\n",
    "train_data = trainfile \n",
    "train_dataset = CustomDataset(csv_path = train_data, images_folder = img_train_folder, transform=img_transforms, train=True)\n",
    "\n",
    "test_data = testfile \n",
    "test_dataset = CustomDataset(csv_path = test_data, images_folder = img_test_folder, transform=img_test_transforms, train=False)"
   ]
  },
  {
   "cell_type": "code",
   "execution_count": 4,
   "id": "e27a9eb4",
   "metadata": {
    "execution": {
     "iopub.execute_input": "2021-11-30T10:25:00.182937Z",
     "iopub.status.busy": "2021-11-30T10:25:00.182119Z",
     "iopub.status.idle": "2021-11-30T10:25:00.197262Z",
     "shell.execute_reply": "2021-11-30T10:25:00.198000Z",
     "shell.execute_reply.started": "2021-11-29T13:54:18.164329Z"
    },
    "papermill": {
     "duration": 0.057469,
     "end_time": "2021-11-30T10:25:00.198218",
     "exception": false,
     "start_time": "2021-11-30T10:25:00.140749",
     "status": "completed"
    },
    "tags": []
   },
   "outputs": [],
   "source": [
    "#architecture 1 \n",
    "\n",
    "class Net(Module):   \n",
    "    def __init__(self):\n",
    "        super(Net, self).__init__()\n",
    "\n",
    "        self.cnn_layers = Sequential(\n",
    "            # Defining a 2D convolution layer\n",
    "            Conv2d(3, 32, kernel_size=3, stride=1),\n",
    "            BatchNorm2d(32),\n",
    "            ReLU(inplace=True),\n",
    "            MaxPool2d(kernel_size=2, stride=2),\n",
    "            # Defining another 2D convolution layer\n",
    "            Conv2d(32, 64, kernel_size=3, stride=1),\n",
    "            BatchNorm2d(64),\n",
    "            ReLU(inplace=True),\n",
    "            MaxPool2d(kernel_size=2, stride=2),\n",
    "            \n",
    "            Conv2d(64, 512, kernel_size=3, stride=1),\n",
    "            BatchNorm2d(512),\n",
    "            ReLU(inplace=True),\n",
    "            MaxPool2d(kernel_size=2, stride=2),\n",
    "            \n",
    "            Conv2d(512, 1024, kernel_size=2, stride=1),\n",
    "            #BatchNorm2d(32),\n",
    "            ReLU(inplace=True),\n",
    "            #MaxPool2d(kernel_size=2, stride=2),\n",
    "        )\n",
    "\n",
    "        self.linear_layers = Sequential(\n",
    "            Linear(1024 * 1 * 1 , 256),\n",
    "            ReLU(inplace=True),\n",
    "            Dropout(p = 0.2),\n",
    "            Linear(256 * 1 * 1 , 19),\n",
    "        )\n"
   ]
  },
  {
   "cell_type": "code",
   "execution_count": 5,
   "id": "186a8199",
   "metadata": {
    "execution": {
     "iopub.execute_input": "2021-11-30T10:25:00.275060Z",
     "iopub.status.busy": "2021-11-30T10:25:00.273279Z",
     "iopub.status.idle": "2021-11-30T10:25:00.287890Z",
     "shell.execute_reply": "2021-11-30T10:25:00.289064Z",
     "shell.execute_reply.started": "2021-11-29T13:54:18.174868Z"
    },
    "papermill": {
     "duration": 0.064987,
     "end_time": "2021-11-30T10:25:00.289259",
     "exception": false,
     "start_time": "2021-11-30T10:25:00.224272",
     "status": "completed"
    },
    "tags": []
   },
   "outputs": [],
   "source": [
    "#architecture 2\n",
    "\n",
    "class Net_drop_1(Module):   \n",
    "    def __init__(self):\n",
    "        super(Net_drop_1, self).__init__()\n",
    "\n",
    "        self.cnn_layers = Sequential(\n",
    "            \n",
    "            Conv2d(3, 32, kernel_size=3, stride=1,padding=1),\n",
    "            BatchNorm2d(32),\n",
    "            ReLU(inplace=True),\n",
    "            Dropout(p = 0.2),\n",
    "            \n",
    "            Conv2d(32, 64, kernel_size=3, stride=1,padding=1),\n",
    "            BatchNorm2d(64),\n",
    "            ReLU(inplace=True),\n",
    "            MaxPool2d(kernel_size=2, stride=2),\n",
    "            Dropout(p = 0.2),\n",
    "            \n",
    "            Conv2d(64, 128, kernel_size=3, stride=1,padding=1),\n",
    "            BatchNorm2d(128),\n",
    "            ReLU(inplace=True),\n",
    "            MaxPool2d(kernel_size=2, stride=2),\n",
    "            Dropout(p = 0.2),\n",
    "            \n",
    "            Conv2d(128, 128, kernel_size=3, stride=1,padding=1),\n",
    "            BatchNorm2d(128),\n",
    "            ReLU(inplace=True),\n",
    "            MaxPool2d(kernel_size=2, stride=2),\n",
    "            Dropout(p = 0.2),\n",
    "            \n",
    "            Conv2d(128, 256, kernel_size=3, stride=1,padding=1),\n",
    "            BatchNorm2d(256),\n",
    "            ReLU(inplace=True),\n",
    "            MaxPool2d(kernel_size=2, stride=2),\n",
    "            Dropout(p = 0.2),\n",
    "            \n",
    "            Conv2d(256, 512, kernel_size=3, stride=1,padding=1),\n",
    "            ReLU(inplace=True),\n",
    "            Dropout(p = 0.2),\n",
    "        )\n",
    "\n",
    "        self.linear_layers = Sequential(\n",
    "            Linear(512*4*4 , 512),\n",
    "            ReLU(inplace=True),\n",
    "            Dropout(p = 0.2),\n",
    "            Linear(512, 64),\n",
    "            ReLU(inplace=True),\n",
    "            Dropout(p = 0.2),\n",
    "            Linear(64 , 19),\n",
    "        )\n",
    "\n",
    "    def forward(self, x):\n",
    "        x = self.cnn_layers(x)\n",
    "        x = x.view(x.size(0), -1)\n",
    "        x = self.linear_layers(x)\n",
    "        return x"
   ]
  },
  {
   "cell_type": "code",
   "execution_count": 6,
   "id": "c82836dd",
   "metadata": {
    "execution": {
     "iopub.execute_input": "2021-11-30T10:25:00.349931Z",
     "iopub.status.busy": "2021-11-30T10:25:00.349007Z",
     "iopub.status.idle": "2021-11-30T10:25:00.351389Z",
     "shell.execute_reply": "2021-11-30T10:25:00.350664Z",
     "shell.execute_reply.started": "2021-11-29T13:54:18.190934Z"
    },
    "papermill": {
     "duration": 0.035785,
     "end_time": "2021-11-30T10:25:00.351550",
     "exception": false,
     "start_time": "2021-11-30T10:25:00.315765",
     "status": "completed"
    },
    "tags": []
   },
   "outputs": [],
   "source": [
    "#pretrained arch\n",
    "\n",
    "class Pre_Net(Module):\n",
    "    def __init__(self, pretrained=True):\n",
    "        super(Pre_Net,self).__init__()\n",
    "        \n",
    "        self.m = models.googlenet(pretrained=True)\n",
    "        self.m.fc = nn.Linear(self.m.fc.in_features, 19)\n",
    "\n",
    "    def forward(self, xb):\n",
    "        return self.m(xb)"
   ]
  },
  {
   "cell_type": "code",
   "execution_count": 7,
   "id": "80715e34",
   "metadata": {
    "execution": {
     "iopub.execute_input": "2021-11-30T10:25:00.412276Z",
     "iopub.status.busy": "2021-11-30T10:25:00.411437Z",
     "iopub.status.idle": "2021-11-30T10:25:00.413649Z",
     "shell.execute_reply": "2021-11-30T10:25:00.412996Z",
     "shell.execute_reply.started": "2021-11-29T13:54:18.202954Z"
    },
    "papermill": {
     "duration": 0.035542,
     "end_time": "2021-11-30T10:25:00.413793",
     "exception": false,
     "start_time": "2021-11-30T10:25:00.378251",
     "status": "completed"
    },
    "tags": []
   },
   "outputs": [],
   "source": [
    "#pretrained arch\n",
    "\n",
    "class Inception_Model(Module):\n",
    "    def __init__(self, pretrained=True):\n",
    "        super(Inception_Model,self).__init__()\n",
    "        \n",
    "        self.m = models.inception_v3(pretrained=True)\n",
    "        self.m.fc = nn.Linear(self.m.fc.in_features, 19)\n",
    "\n",
    "    def forward(self, xb):\n",
    "        return self.m(xb)"
   ]
  },
  {
   "cell_type": "code",
   "execution_count": 8,
   "id": "93a948e6",
   "metadata": {
    "execution": {
     "iopub.execute_input": "2021-11-30T10:25:00.473060Z",
     "iopub.status.busy": "2021-11-30T10:25:00.472294Z",
     "iopub.status.idle": "2021-11-30T10:25:00.475330Z",
     "shell.execute_reply": "2021-11-30T10:25:00.475930Z",
     "shell.execute_reply.started": "2021-11-29T13:54:18.215584Z"
    },
    "papermill": {
     "duration": 0.036663,
     "end_time": "2021-11-30T10:25:00.476100",
     "exception": false,
     "start_time": "2021-11-30T10:25:00.439437",
     "status": "completed"
    },
    "tags": []
   },
   "outputs": [],
   "source": [
    "class VGG_Model(Module):\n",
    "    def __init__(self, pretrained=True):\n",
    "        super(VGG_Model,self).__init__()\n",
    "        \n",
    "        self.m = models.vgg16()\n",
    "        self.m.classifier = Sequential(\n",
    "            Linear(25088 , 4096),\n",
    "            ReLU(inplace=True),\n",
    "            Dropout(p = 0.5),\n",
    "            Linear(4096, 4096),\n",
    "            ReLU(inplace=True),\n",
    "            Dropout(p = 0.5),\n",
    "            Linear(4096 , 19),\n",
    "        )\n",
    "\n",
    "    def forward(self, xb):\n",
    "        return self.m(xb)"
   ]
  },
  {
   "cell_type": "code",
   "execution_count": 9,
   "id": "b38115f7",
   "metadata": {
    "execution": {
     "iopub.execute_input": "2021-11-30T10:25:00.535151Z",
     "iopub.status.busy": "2021-11-30T10:25:00.534322Z",
     "iopub.status.idle": "2021-11-30T10:25:00.536527Z",
     "shell.execute_reply": "2021-11-30T10:25:00.535845Z",
     "shell.execute_reply.started": "2021-11-29T13:54:18.225869Z"
    },
    "papermill": {
     "duration": 0.03513,
     "end_time": "2021-11-30T10:25:00.536671",
     "exception": false,
     "start_time": "2021-11-30T10:25:00.501541",
     "status": "completed"
    },
    "tags": []
   },
   "outputs": [],
   "source": [
    "class Efficient_Net(Module):\n",
    "    def __init__(self, pretrained=True):\n",
    "        super(Efficient_Net,self).__init__()\n",
    "        \n",
    "        self.model = EfficientNet.from_pretrained('efficientnet-b3')\n",
    "        self.model._fc = Linear(in_features=1536, out_features=19, bias=True)\n",
    "\n",
    "    def forward(self, xb):\n",
    "        return self.model(xb)"
   ]
  },
  {
   "cell_type": "code",
   "execution_count": 10,
   "id": "9dc272af",
   "metadata": {
    "execution": {
     "iopub.execute_input": "2021-11-30T10:25:00.595848Z",
     "iopub.status.busy": "2021-11-30T10:25:00.595087Z",
     "iopub.status.idle": "2021-11-30T10:25:00.597961Z",
     "shell.execute_reply": "2021-11-30T10:25:00.598578Z",
     "shell.execute_reply.started": "2021-11-29T13:54:18.236994Z"
    },
    "papermill": {
     "duration": 0.036147,
     "end_time": "2021-11-30T10:25:00.598744",
     "exception": false,
     "start_time": "2021-11-30T10:25:00.562597",
     "status": "completed"
    },
    "tags": []
   },
   "outputs": [],
   "source": [
    "def train(epoch, x, y, criterion, optimizer, model):\n",
    "    model.train()\n",
    "    \n",
    "    x_train, y_train = Variable(x), Variable(y)\n",
    "    \n",
    "    if torch.cuda.is_available():\n",
    "        x_train = x_train.cuda()\n",
    "        y_train = y_train.cuda()\n",
    "        \n",
    "    optimizer.zero_grad()\n",
    "    \n",
    "    output_train = model(x_train).logits\n",
    "    \n",
    "    loss_train = criterion(output_train, y_train)\n",
    "    \n",
    "    loss_train.backward()\n",
    "    optimizer.step()\n",
    "    tr_loss = loss_train.item()\n",
    "    \n",
    "    return tr_loss"
   ]
  },
  {
   "cell_type": "code",
   "execution_count": 11,
   "id": "eb8a5a70",
   "metadata": {
    "execution": {
     "iopub.execute_input": "2021-11-30T10:25:00.656152Z",
     "iopub.status.busy": "2021-11-30T10:25:00.655354Z",
     "iopub.status.idle": "2021-11-30T10:25:00.658881Z",
     "shell.execute_reply": "2021-11-30T10:25:00.659527Z",
     "shell.execute_reply.started": "2021-11-29T13:54:18.245213Z"
    },
    "papermill": {
     "duration": 0.035353,
     "end_time": "2021-11-30T10:25:00.659691",
     "exception": false,
     "start_time": "2021-11-30T10:25:00.624338",
     "status": "completed"
    },
    "tags": []
   },
   "outputs": [],
   "source": [
    "def predict(epoch, x, y, criterion, optimizer, model):\n",
    "    \n",
    "    model.eval()\n",
    "    x_train, y_train = Variable(x), Variable(y)\n",
    "    \n",
    "    if torch.cuda.is_available():\n",
    "        x_train = x_train.cuda()\n",
    "        y_train = y_train.cuda()\n",
    "\n",
    "    output_train = model(x_train)\n",
    "    output_train = torch.argmax(output_train, dim = 1)\n",
    "    \n",
    "    return (torch.sum(output_train==y_train)).item()/y_train.shape[0]"
   ]
  },
  {
   "cell_type": "code",
   "execution_count": 12,
   "id": "338c0e5d",
   "metadata": {
    "execution": {
     "iopub.execute_input": "2021-11-30T10:25:00.702628Z",
     "iopub.status.busy": "2021-11-30T10:25:00.701037Z",
     "iopub.status.idle": "2021-11-30T10:25:00.703268Z",
     "shell.execute_reply": "2021-11-30T10:25:00.703715Z",
     "shell.execute_reply.started": "2021-11-29T13:54:18.254088Z"
    },
    "papermill": {
     "duration": 0.02308,
     "end_time": "2021-11-30T10:25:00.703833",
     "exception": false,
     "start_time": "2021-11-30T10:25:00.680753",
     "status": "completed"
    },
    "tags": []
   },
   "outputs": [],
   "source": [
    "def predict_n(x, model):\n",
    "    \n",
    "    model.eval()\n",
    "    x_train= Variable(x)\n",
    "    \n",
    "    if torch.cuda.is_available():\n",
    "        x_train = x_train.cuda()\n",
    "        \n",
    "    output_train = model(x_train)\n",
    "    output_train = torch.argmax(output_train, dim = 1)\n",
    "    return output_train"
   ]
  },
  {
   "cell_type": "code",
   "execution_count": 13,
   "id": "58f303bf",
   "metadata": {
    "execution": {
     "iopub.execute_input": "2021-11-30T10:25:00.740792Z",
     "iopub.status.busy": "2021-11-30T10:25:00.739286Z",
     "iopub.status.idle": "2021-11-30T10:25:00.741456Z",
     "shell.execute_reply": "2021-11-30T10:25:00.741893Z",
     "shell.execute_reply.started": "2021-11-29T13:54:18.264631Z"
    },
    "papermill": {
     "duration": 0.022318,
     "end_time": "2021-11-30T10:25:00.742014",
     "exception": false,
     "start_time": "2021-11-30T10:25:00.719696",
     "status": "completed"
    },
    "tags": []
   },
   "outputs": [],
   "source": [
    "def reset_weights(m):\n",
    "    \n",
    "    for layer in m.children():\n",
    "        if hasattr(layer, 'reset_parameters'):\n",
    "            print(f'Reset trainable parameters of layer = {layer}')\n",
    "            layer.reset_parameters()"
   ]
  },
  {
   "cell_type": "code",
   "execution_count": 14,
   "id": "96315897",
   "metadata": {
    "execution": {
     "iopub.execute_input": "2021-11-30T10:25:00.780323Z",
     "iopub.status.busy": "2021-11-30T10:25:00.779677Z",
     "iopub.status.idle": "2021-11-30T10:25:09.484475Z",
     "shell.execute_reply": "2021-11-30T10:25:09.483960Z",
     "shell.execute_reply.started": "2021-11-29T13:54:18.274357Z"
    },
    "papermill": {
     "duration": 8.726924,
     "end_time": "2021-11-30T10:25:09.484615",
     "exception": false,
     "start_time": "2021-11-30T10:25:00.757691",
     "status": "completed"
    },
    "tags": []
   },
   "outputs": [
    {
     "name": "stderr",
     "output_type": "stream",
     "text": [
      "/opt/conda/lib/python3.7/site-packages/torch/utils/data/dataloader.py:481: UserWarning: This DataLoader will create 20 worker processes in total. Our suggested max number of worker in current system is 2, which is smaller than what this DataLoader is going to create. Please be aware that excessive worker creation might get DataLoader running slow or even freeze, lower the worker number to avoid potential slowness/freeze if necessary.\n",
      "  cpuset_checked))\n",
      "Downloading: \"https://download.pytorch.org/models/inception_v3_google-0cc3c7bd.pth\" to /root/.cache/torch/hub/checkpoints/inception_v3_google-0cc3c7bd.pth\n"
     ]
    },
    {
     "data": {
      "application/vnd.jupyter.widget-view+json": {
       "model_id": "8b4b916fe28745489e7212f99330c3be",
       "version_major": 2,
       "version_minor": 0
      },
      "text/plain": [
       "  0%|          | 0.00/104M [00:00<?, ?B/s]"
      ]
     },
     "metadata": {},
     "output_type": "display_data"
    },
    {
     "name": "stdout",
     "output_type": "stream",
     "text": [
      "25151195\n"
     ]
    }
   ],
   "source": [
    "train_loader = torch.utils.data.DataLoader(\n",
    "                  train_dataset, \n",
    "                  batch_size=BATCH_SIZE, num_workers = NUM_WORKERS, shuffle=False)\n",
    "\n",
    "test_loader = torch.utils.data.DataLoader(\n",
    "              test_dataset,\n",
    "              batch_size=BATCH_SIZE,  num_workers = NUM_WORKERS, shuffle = False)\n",
    "\n",
    "torch.manual_seed(51)\n",
    "cnnmodel = Inception_Model()\n",
    "#cnnmodel.apply(reset_weights)\n",
    "torch.cuda.empty_cache()\n",
    "print(sum(p.numel() for p in cnnmodel.parameters()))\n",
    "\n",
    "optimizer = SGD(cnnmodel.parameters(), lr=0.1, momentum=0.9,nesterov=True)\n",
    "criterion = CrossEntropyLoss()\n",
    "scheduler = optim.lr_scheduler.OneCycleLR(optimizer,  max_lr = 0.1, epochs = 20, steps_per_epoch = len(train_loader))\n",
    "\n",
    "if torch.cuda.is_available():\n",
    "    cnnmodel = cnnmodel.cuda()\n",
    "    criterion = criterion.cuda()"
   ]
  },
  {
   "cell_type": "code",
   "execution_count": 15,
   "id": "dbefbdb3",
   "metadata": {
    "execution": {
     "iopub.execute_input": "2021-11-30T10:25:09.530424Z",
     "iopub.status.busy": "2021-11-30T10:25:09.529575Z",
     "iopub.status.idle": "2021-11-30T10:25:09.531641Z",
     "shell.execute_reply": "2021-11-30T10:25:09.532022Z",
     "shell.execute_reply.started": "2021-11-29T13:54:27.011751Z"
    },
    "papermill": {
     "duration": 0.029825,
     "end_time": "2021-11-30T10:25:09.532171",
     "exception": false,
     "start_time": "2021-11-30T10:25:09.502346",
     "status": "completed"
    },
    "tags": []
   },
   "outputs": [],
   "source": [
    "def test(epoch):\n",
    "    test_loader = torch.utils.data.DataLoader(\n",
    "              test_dataset,\n",
    "              batch_size=BATCH_SIZE,  num_workers = NUM_WORKERS, shuffle = False)\n",
    "\n",
    "    predictions = torch.Tensor([])\n",
    "\n",
    "    if torch.cuda.is_available():\n",
    "        predictions = predictions.cuda()\n",
    "\n",
    "    for batch_idx, sample in enumerate(test_loader):\n",
    "        images = sample['images']\n",
    "\n",
    "        temp = predict_n(images, cnnmodel)\n",
    "        predictions = torch.cat((predictions,temp),0)\n",
    "\n",
    "    predictions=predictions.cpu().detach().numpy()\n",
    "    \n",
    "    classif = {\n",
    "        \"Virabhadrasana\":0,\n",
    "        \"Vrikshasana\":1,\n",
    "        \"Utkatasana\":2,\n",
    "        \"Padahastasana\":3,\n",
    "        \"Katichakrasana\":4,\n",
    "        \"TriyakTadasana\":5,\n",
    "        \"Gorakshasana\":6,\n",
    "        \"Tadasana\":7,\n",
    "        \"Natarajasana\":8,                 \n",
    "        \"Pranamasana\":9,\n",
    "        \"ParivrittaTrikonasana\":10,\n",
    "        \"Tuladandasana\":11,\n",
    "        \"Santolanasana\":12,\n",
    "        \"Still\":13,\n",
    "        \"Natavarasana\":14,\n",
    "        \"Garudasana\":15,\n",
    "        \"Naukasana\":16,\n",
    "        \"Ardhachakrasana\":17,\n",
    "        \"Trikonasana\":18,\n",
    "\n",
    "        }\n",
    "    \n",
    "    inv_map = {v: k for k, v in classif.items()}\n",
    "\n",
    "    pred = [inv_map[letter] for letter in predictions]\n",
    "    df1 = pd.read_csv(testfile)\n",
    "    df1[\"category\"] = pred\n",
    "    df1.drop(df1.tail(1).index,inplace=True)\n",
    "    df1.to_csv(path_or_buf=\"submission{}.csv\".format(epoch), columns=[\"name\", \"category\"],index=False)\n",
    "    \n",
    "    "
   ]
  },
  {
   "cell_type": "code",
   "execution_count": 16,
   "id": "5fcbb01c",
   "metadata": {
    "execution": {
     "iopub.execute_input": "2021-11-30T10:25:09.573895Z",
     "iopub.status.busy": "2021-11-30T10:25:09.569909Z",
     "iopub.status.idle": "2021-11-30T11:02:25.028746Z",
     "shell.execute_reply": "2021-11-30T11:02:25.029220Z",
     "shell.execute_reply.started": "2021-11-29T13:54:27.023776Z"
    },
    "papermill": {
     "duration": 2235.48029,
     "end_time": "2021-11-30T11:02:25.029399",
     "exception": false,
     "start_time": "2021-11-30T10:25:09.549109",
     "status": "completed"
    },
    "tags": []
   },
   "outputs": [
    {
     "name": "stdout",
     "output_type": "stream",
     "text": [
      "Training loss -> Epoch0 0.7787776565174097\n",
      "Training loss -> Epoch1 0.40850524230765245\n",
      "Training loss -> Epoch2 0.3618603904138912\n",
      "Training loss -> Epoch3 0.3068086878491499\n",
      "Training loss -> Epoch4 0.2551906042149901\n",
      "Training loss -> Epoch5 0.21066703168115997\n",
      "Training loss -> Epoch6 0.17689805151509844\n",
      "Training loss -> Epoch7 0.1351557076900951\n",
      "Training loss -> Epoch8 0.12353817786323548\n"
     ]
    }
   ],
   "source": [
    "epochs = 9\n",
    "\n",
    "for epoch in range(epochs):\n",
    "        \n",
    "    loss_avg = 0\n",
    "    count = 0\n",
    "    for batch_idx, sample in enumerate(train_loader):\n",
    "        images = sample['images']\n",
    "        labels = sample['labels']\n",
    "        \n",
    "        if torch.cuda.is_available():\n",
    "            images = images.cuda()\n",
    "            labels = labels.cuda()\n",
    "            \n",
    "        loss = train(epoch, images, labels, criterion, optimizer, cnnmodel)\n",
    "        loss_avg += loss\n",
    "        count+=1\n",
    "        scheduler.step()\n",
    "        \n",
    "    loss_avg = loss_avg/count\n",
    "    print(\"Training loss -> Epoch\" + str(epoch), loss_avg)\n",
    "\n",
    "    torch.save(cnnmodel.state_dict(), modelfile)\n",
    "    #test(epoch)\n",
    "    "
   ]
  },
  {
   "cell_type": "code",
   "execution_count": 17,
   "id": "4b77ad42",
   "metadata": {
    "execution": {
     "iopub.execute_input": "2021-11-30T11:02:25.076693Z",
     "iopub.status.busy": "2021-11-30T11:02:25.075796Z",
     "iopub.status.idle": "2021-11-30T11:03:17.217031Z",
     "shell.execute_reply": "2021-11-30T11:03:17.217565Z",
     "shell.execute_reply.started": "2021-11-29T15:34:20.769641Z"
    },
    "papermill": {
     "duration": 52.168289,
     "end_time": "2021-11-30T11:03:17.217756",
     "exception": false,
     "start_time": "2021-11-30T11:02:25.049467",
     "status": "completed"
    },
    "tags": []
   },
   "outputs": [],
   "source": [
    "test_loader = torch.utils.data.DataLoader(\n",
    "              test_dataset,\n",
    "              batch_size=BATCH_SIZE,  num_workers = NUM_WORKERS, shuffle = False)\n",
    "\n",
    "predictions = torch.Tensor([])\n",
    "\n",
    "if torch.cuda.is_available():\n",
    "    predictions = predictions.cuda()\n",
    "    \n",
    "for batch_idx, sample in enumerate(test_loader):\n",
    "    images = sample['images']\n",
    "    \n",
    "    temp = predict_n(images, cnnmodel)\n",
    "    predictions = torch.cat((predictions,temp),0)\n",
    "\n",
    "predictions=predictions.cpu().detach().numpy()"
   ]
  },
  {
   "cell_type": "code",
   "execution_count": 18,
   "id": "ada4d8ba",
   "metadata": {
    "execution": {
     "iopub.execute_input": "2021-11-30T11:03:17.291050Z",
     "iopub.status.busy": "2021-11-30T11:03:17.285966Z",
     "iopub.status.idle": "2021-11-30T11:03:17.336157Z",
     "shell.execute_reply": "2021-11-30T11:03:17.335705Z",
     "shell.execute_reply.started": "2021-11-29T15:35:13.025947Z"
    },
    "papermill": {
     "duration": 0.098496,
     "end_time": "2021-11-30T11:03:17.336283",
     "exception": false,
     "start_time": "2021-11-30T11:03:17.237787",
     "status": "completed"
    },
    "tags": []
   },
   "outputs": [],
   "source": [
    "classif = {\n",
    "        \"Virabhadrasana\":0,\n",
    "        \"Vrikshasana\":1,\n",
    "        \"Utkatasana\":2,\n",
    "        \"Padahastasana\":3,\n",
    "        \"Katichakrasana\":4,\n",
    "        \"TriyakTadasana\":5,\n",
    "        \"Gorakshasana\":6,\n",
    "        \"Tadasana\":7,\n",
    "        \"Natarajasana\":8,                 \n",
    "        \"Pranamasana\":9,\n",
    "        \"ParivrittaTrikonasana\":10,\n",
    "        \"Tuladandasana\":11,\n",
    "        \"Santolanasana\":12,\n",
    "        \"Still\":13,\n",
    "        \"Natavarasana\":14,\n",
    "        \"Garudasana\":15,\n",
    "        \"Naukasana\":16,\n",
    "        \"Ardhachakrasana\":17,\n",
    "        \"Trikonasana\":18,\n",
    "\n",
    "        }\n",
    "    \n",
    "inv_map = {v: k for k, v in classif.items()}\n",
    "\n",
    "pred = [inv_map[letter] for letter in predictions]\n",
    "df1 = pd.read_csv(testfile)\n",
    "df1[\"category\"] = pred\n",
    "df1.drop(df1.tail(1).index,inplace=True)\n",
    "df1.to_csv(path_or_buf=\"submission.csv\", columns=[\"name\", \"category\"],index=False)"
   ]
  }
 ],
 "metadata": {
  "kernelspec": {
   "display_name": "Python 3",
   "language": "python",
   "name": "python3"
  },
  "language_info": {
   "codemirror_mode": {
    "name": "ipython",
    "version": 3
   },
   "file_extension": ".py",
   "mimetype": "text/x-python",
   "name": "python",
   "nbconvert_exporter": "python",
   "pygments_lexer": "ipython3",
   "version": "3.7.10"
  },
  "papermill": {
   "default_parameters": {},
   "duration": 2320.064297,
   "end_time": "2021-11-30T11:03:18.972513",
   "environment_variables": {},
   "exception": null,
   "input_path": "__notebook__.ipynb",
   "output_path": "__notebook__.ipynb",
   "parameters": {},
   "start_time": "2021-11-30T10:24:38.908216",
   "version": "2.3.3"
  },
  "widgets": {
   "application/vnd.jupyter.widget-state+json": {
    "state": {
     "542eb79b99d94de084a1e5b7786a71bc": {
      "model_module": "@jupyter-widgets/controls",
      "model_module_version": "1.5.0",
      "model_name": "HTMLModel",
      "state": {
       "_dom_classes": [],
       "_model_module": "@jupyter-widgets/controls",
       "_model_module_version": "1.5.0",
       "_model_name": "HTMLModel",
       "_view_count": null,
       "_view_module": "@jupyter-widgets/controls",
       "_view_module_version": "1.5.0",
       "_view_name": "HTMLView",
       "description": "",
       "description_tooltip": null,
       "layout": "IPY_MODEL_a5efcebe20e84fe8b8bfec05b865483a",
       "placeholder": "​",
       "style": "IPY_MODEL_ccf09eba443b4e98bb0e5b5ae780f9db",
       "value": "100%"
      }
     },
     "5591199741184d7abb0a3445572a4d4d": {
      "model_module": "@jupyter-widgets/controls",
      "model_module_version": "1.5.0",
      "model_name": "FloatProgressModel",
      "state": {
       "_dom_classes": [],
       "_model_module": "@jupyter-widgets/controls",
       "_model_module_version": "1.5.0",
       "_model_name": "FloatProgressModel",
       "_view_count": null,
       "_view_module": "@jupyter-widgets/controls",
       "_view_module_version": "1.5.0",
       "_view_name": "ProgressView",
       "bar_style": "success",
       "description": "",
       "description_tooltip": null,
       "layout": "IPY_MODEL_a3bbf3559b61423fbfc79987100fd2d4",
       "max": 108949747.0,
       "min": 0.0,
       "orientation": "horizontal",
       "style": "IPY_MODEL_7a0dce1d96334a3684ac6428c48f8f7d",
       "value": 108949747.0
      }
     },
     "7182214e5d834ec0aad88d56629796b4": {
      "model_module": "@jupyter-widgets/controls",
      "model_module_version": "1.5.0",
      "model_name": "HTMLModel",
      "state": {
       "_dom_classes": [],
       "_model_module": "@jupyter-widgets/controls",
       "_model_module_version": "1.5.0",
       "_model_name": "HTMLModel",
       "_view_count": null,
       "_view_module": "@jupyter-widgets/controls",
       "_view_module_version": "1.5.0",
       "_view_name": "HTMLView",
       "description": "",
       "description_tooltip": null,
       "layout": "IPY_MODEL_add46c647f58479b8b7b882b54fb1c20",
       "placeholder": "​",
       "style": "IPY_MODEL_74bc7b19696141ec8af1d151803f37c4",
       "value": " 104M/104M [00:04&lt;00:00, 24.8MB/s]"
      }
     },
     "74bc7b19696141ec8af1d151803f37c4": {
      "model_module": "@jupyter-widgets/controls",
      "model_module_version": "1.5.0",
      "model_name": "DescriptionStyleModel",
      "state": {
       "_model_module": "@jupyter-widgets/controls",
       "_model_module_version": "1.5.0",
       "_model_name": "DescriptionStyleModel",
       "_view_count": null,
       "_view_module": "@jupyter-widgets/base",
       "_view_module_version": "1.2.0",
       "_view_name": "StyleView",
       "description_width": ""
      }
     },
     "7a0dce1d96334a3684ac6428c48f8f7d": {
      "model_module": "@jupyter-widgets/controls",
      "model_module_version": "1.5.0",
      "model_name": "ProgressStyleModel",
      "state": {
       "_model_module": "@jupyter-widgets/controls",
       "_model_module_version": "1.5.0",
       "_model_name": "ProgressStyleModel",
       "_view_count": null,
       "_view_module": "@jupyter-widgets/base",
       "_view_module_version": "1.2.0",
       "_view_name": "StyleView",
       "bar_color": null,
       "description_width": ""
      }
     },
     "8b4b916fe28745489e7212f99330c3be": {
      "model_module": "@jupyter-widgets/controls",
      "model_module_version": "1.5.0",
      "model_name": "HBoxModel",
      "state": {
       "_dom_classes": [],
       "_model_module": "@jupyter-widgets/controls",
       "_model_module_version": "1.5.0",
       "_model_name": "HBoxModel",
       "_view_count": null,
       "_view_module": "@jupyter-widgets/controls",
       "_view_module_version": "1.5.0",
       "_view_name": "HBoxView",
       "box_style": "",
       "children": [
        "IPY_MODEL_542eb79b99d94de084a1e5b7786a71bc",
        "IPY_MODEL_5591199741184d7abb0a3445572a4d4d",
        "IPY_MODEL_7182214e5d834ec0aad88d56629796b4"
       ],
       "layout": "IPY_MODEL_e0cf329b1e384904bf80fdb5175f717c"
      }
     },
     "a3bbf3559b61423fbfc79987100fd2d4": {
      "model_module": "@jupyter-widgets/base",
      "model_module_version": "1.2.0",
      "model_name": "LayoutModel",
      "state": {
       "_model_module": "@jupyter-widgets/base",
       "_model_module_version": "1.2.0",
       "_model_name": "LayoutModel",
       "_view_count": null,
       "_view_module": "@jupyter-widgets/base",
       "_view_module_version": "1.2.0",
       "_view_name": "LayoutView",
       "align_content": null,
       "align_items": null,
       "align_self": null,
       "border": null,
       "bottom": null,
       "display": null,
       "flex": null,
       "flex_flow": null,
       "grid_area": null,
       "grid_auto_columns": null,
       "grid_auto_flow": null,
       "grid_auto_rows": null,
       "grid_column": null,
       "grid_gap": null,
       "grid_row": null,
       "grid_template_areas": null,
       "grid_template_columns": null,
       "grid_template_rows": null,
       "height": null,
       "justify_content": null,
       "justify_items": null,
       "left": null,
       "margin": null,
       "max_height": null,
       "max_width": null,
       "min_height": null,
       "min_width": null,
       "object_fit": null,
       "object_position": null,
       "order": null,
       "overflow": null,
       "overflow_x": null,
       "overflow_y": null,
       "padding": null,
       "right": null,
       "top": null,
       "visibility": null,
       "width": null
      }
     },
     "a5efcebe20e84fe8b8bfec05b865483a": {
      "model_module": "@jupyter-widgets/base",
      "model_module_version": "1.2.0",
      "model_name": "LayoutModel",
      "state": {
       "_model_module": "@jupyter-widgets/base",
       "_model_module_version": "1.2.0",
       "_model_name": "LayoutModel",
       "_view_count": null,
       "_view_module": "@jupyter-widgets/base",
       "_view_module_version": "1.2.0",
       "_view_name": "LayoutView",
       "align_content": null,
       "align_items": null,
       "align_self": null,
       "border": null,
       "bottom": null,
       "display": null,
       "flex": null,
       "flex_flow": null,
       "grid_area": null,
       "grid_auto_columns": null,
       "grid_auto_flow": null,
       "grid_auto_rows": null,
       "grid_column": null,
       "grid_gap": null,
       "grid_row": null,
       "grid_template_areas": null,
       "grid_template_columns": null,
       "grid_template_rows": null,
       "height": null,
       "justify_content": null,
       "justify_items": null,
       "left": null,
       "margin": null,
       "max_height": null,
       "max_width": null,
       "min_height": null,
       "min_width": null,
       "object_fit": null,
       "object_position": null,
       "order": null,
       "overflow": null,
       "overflow_x": null,
       "overflow_y": null,
       "padding": null,
       "right": null,
       "top": null,
       "visibility": null,
       "width": null
      }
     },
     "add46c647f58479b8b7b882b54fb1c20": {
      "model_module": "@jupyter-widgets/base",
      "model_module_version": "1.2.0",
      "model_name": "LayoutModel",
      "state": {
       "_model_module": "@jupyter-widgets/base",
       "_model_module_version": "1.2.0",
       "_model_name": "LayoutModel",
       "_view_count": null,
       "_view_module": "@jupyter-widgets/base",
       "_view_module_version": "1.2.0",
       "_view_name": "LayoutView",
       "align_content": null,
       "align_items": null,
       "align_self": null,
       "border": null,
       "bottom": null,
       "display": null,
       "flex": null,
       "flex_flow": null,
       "grid_area": null,
       "grid_auto_columns": null,
       "grid_auto_flow": null,
       "grid_auto_rows": null,
       "grid_column": null,
       "grid_gap": null,
       "grid_row": null,
       "grid_template_areas": null,
       "grid_template_columns": null,
       "grid_template_rows": null,
       "height": null,
       "justify_content": null,
       "justify_items": null,
       "left": null,
       "margin": null,
       "max_height": null,
       "max_width": null,
       "min_height": null,
       "min_width": null,
       "object_fit": null,
       "object_position": null,
       "order": null,
       "overflow": null,
       "overflow_x": null,
       "overflow_y": null,
       "padding": null,
       "right": null,
       "top": null,
       "visibility": null,
       "width": null
      }
     },
     "ccf09eba443b4e98bb0e5b5ae780f9db": {
      "model_module": "@jupyter-widgets/controls",
      "model_module_version": "1.5.0",
      "model_name": "DescriptionStyleModel",
      "state": {
       "_model_module": "@jupyter-widgets/controls",
       "_model_module_version": "1.5.0",
       "_model_name": "DescriptionStyleModel",
       "_view_count": null,
       "_view_module": "@jupyter-widgets/base",
       "_view_module_version": "1.2.0",
       "_view_name": "StyleView",
       "description_width": ""
      }
     },
     "e0cf329b1e384904bf80fdb5175f717c": {
      "model_module": "@jupyter-widgets/base",
      "model_module_version": "1.2.0",
      "model_name": "LayoutModel",
      "state": {
       "_model_module": "@jupyter-widgets/base",
       "_model_module_version": "1.2.0",
       "_model_name": "LayoutModel",
       "_view_count": null,
       "_view_module": "@jupyter-widgets/base",
       "_view_module_version": "1.2.0",
       "_view_name": "LayoutView",
       "align_content": null,
       "align_items": null,
       "align_self": null,
       "border": null,
       "bottom": null,
       "display": null,
       "flex": null,
       "flex_flow": null,
       "grid_area": null,
       "grid_auto_columns": null,
       "grid_auto_flow": null,
       "grid_auto_rows": null,
       "grid_column": null,
       "grid_gap": null,
       "grid_row": null,
       "grid_template_areas": null,
       "grid_template_columns": null,
       "grid_template_rows": null,
       "height": null,
       "justify_content": null,
       "justify_items": null,
       "left": null,
       "margin": null,
       "max_height": null,
       "max_width": null,
       "min_height": null,
       "min_width": null,
       "object_fit": null,
       "object_position": null,
       "order": null,
       "overflow": null,
       "overflow_x": null,
       "overflow_y": null,
       "padding": null,
       "right": null,
       "top": null,
       "visibility": null,
       "width": null
      }
     }
    },
    "version_major": 2,
    "version_minor": 0
   }
  }
 },
 "nbformat": 4,
 "nbformat_minor": 5
}
